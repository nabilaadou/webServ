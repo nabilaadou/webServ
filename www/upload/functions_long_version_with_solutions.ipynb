{
 "cells": [
  {
   "cell_type": "markdown",
   "metadata": {},
   "source": [
    "# Lesson 4 in Python Programming.\n",
    "\n",
    "**Aim of this notebook:** learn on the following topics:\n",
    "> functions, methods, packages"
   ]
  },
  {
   "cell_type": "markdown",
   "metadata": {},
   "source": [
    "## Defining functions"
   ]
  },
  {
   "cell_type": "code",
   "execution_count": 1,
   "metadata": {},
   "outputs": [],
   "source": [
    "def greetings(name):\n",
    "    print(\"Welcome, \"+ name)"
   ]
  },
  {
   "cell_type": "code",
   "execution_count": 2,
   "metadata": {},
   "outputs": [
    {
     "name": "stdout",
     "output_type": "stream",
     "text": [
      "Welcome, John\n"
     ]
    }
   ],
   "source": [
    "greetings('John')"
   ]
  },
  {
   "cell_type": "markdown",
   "metadata": {},
   "source": [
    "* To define a function, we use the `def` keyword. The name of the function is what comes after the keyword. \n",
    "\n",
    "* After the name, we have the parameters of the function which are written between parentheses. \n",
    " \n",
    "* After the colon, we have the body of the function with the correct **indentation**. That's where we state what we want our function to do. "
   ]
  },
  {
   "cell_type": "code",
   "execution_count": 3,
   "metadata": {},
   "outputs": [],
   "source": [
    "def greetings(name, department):\n",
    "    print(\"Welcome, \"+ name)\n",
    "    print(\"You are part of the \"+ department)"
   ]
  },
  {
   "cell_type": "code",
   "execution_count": 4,
   "metadata": {},
   "outputs": [
    {
     "name": "stdout",
     "output_type": "stream",
     "text": [
      "Welcome, John\n",
      "You are part of the IDS\n"
     ]
    }
   ],
   "source": [
    "greetings('John', 'IDS')"
   ]
  },
  {
   "cell_type": "markdown",
   "metadata": {},
   "source": [
    "Sometimes we don't want a function to simply run and finish. We may want a function to manipulate data we passed it and then return the result to us:"
   ]
  },
  {
   "cell_type": "code",
   "execution_count": 5,
   "metadata": {},
   "outputs": [],
   "source": [
    "def area_triangle(height,base):\n",
    "    return base*height/2   "
   ]
  },
  {
   "cell_type": "code",
   "execution_count": 6,
   "metadata": {},
   "outputs": [
    {
     "data": {
      "text/plain": [
       "100.0"
      ]
     },
     "execution_count": 6,
     "metadata": {},
     "output_type": "execute_result"
    }
   ],
   "source": [
    "area_triangle(10, 20)"
   ]
  },
  {
   "cell_type": "markdown",
   "metadata": {},
   "source": [
    "We can use `return`  to return more than one value. Let's say you have a duration of time in seconds and you want to convert that to the equivalent number of hours, minutes, and seconds:"
   ]
  },
  {
   "cell_type": "code",
   "execution_count": 7,
   "metadata": {},
   "outputs": [],
   "source": [
    "def convert_seconds(seconds):\n",
    "    hours=seconds//3600\n",
    "    minutes=(seconds-hours*3600)//60\n",
    "    remaining_seconds=seconds-hours*3600-minutes*60\n",
    "    return hours, minutes, remaining_seconds"
   ]
  },
  {
   "cell_type": "code",
   "execution_count": 8,
   "metadata": {},
   "outputs": [
    {
     "data": {
      "text/plain": [
       "(1, 23, 20)"
      ]
     },
     "execution_count": 8,
     "metadata": {},
     "output_type": "execute_result"
    }
   ],
   "source": [
    "convert_seconds(5000)"
   ]
  },
  {
   "cell_type": "code",
   "execution_count": 9,
   "metadata": {},
   "outputs": [
    {
     "name": "stdout",
     "output_type": "stream",
     "text": [
      "There are 1 hours, 23 minutes and 20 seconds in 5000 seconds\n"
     ]
    }
   ],
   "source": [
    "num_seconds = 5000\n",
    "hours, minutes, remaining_seconds = convert_seconds(num_seconds)\n",
    "print(f'There are {hours} hours, {minutes} minutes and {remaining_seconds} seconds in {num_seconds} seconds')"
   ]
  },
  {
   "cell_type": "markdown",
   "metadata": {},
   "source": [
    "**Docstring** It is a very recommended practice to add in the preambule of a function what it is supposed to do: it is called the *docstring* of a function. It starts and finishes with \"\"\"."
   ]
  },
  {
   "cell_type": "code",
   "execution_count": 1,
   "metadata": {},
   "outputs": [],
   "source": [
    "def my_funct(a, b):\n",
    "    \"\"\"Takes two numbers a and b and return the sum\"\"\"\n",
    "    return a+b"
   ]
  },
  {
   "cell_type": "markdown",
   "metadata": {},
   "source": [
    "**Exercise:** Add a docstring to all three previous functions that were constructed : 'convert_seconds', 'area_triangle' and 'greetings'."
   ]
  },
  {
   "cell_type": "markdown",
   "metadata": {},
   "source": [
    "**Getting Help:**\n",
    "We can get help on built-in functions or on our own function (thanks to the docstring)\n"
   ]
  },
  {
   "cell_type": "code",
   "execution_count": null,
   "metadata": {},
   "outputs": [
    {
     "name": "stdout",
     "output_type": "stream",
     "text": [
      "Help on built-in function round in module builtins:\n",
      "\n",
      "round(number, ndigits=None)\n",
      "    Round a number to a given precision in decimal digits.\n",
      "    \n",
      "    The return value is an integer if ndigits is omitted or None.  Otherwise\n",
      "    the return value has the same type as the number.  ndigits may be negative.\n",
      "\n"
     ]
    }
   ],
   "source": [
    "help(round)"
   ]
  },
  {
   "cell_type": "code",
   "execution_count": null,
   "metadata": {},
   "outputs": [
    {
     "name": "stdout",
     "output_type": "stream",
     "text": [
      "Help on function my_funct in module __main__:\n",
      "\n",
      "my_funct(a, b)\n",
      "    Takes two numbers a and b and return the sum\n",
      "\n"
     ]
    }
   ],
   "source": [
    "help(my_funct)"
   ]
  },
  {
   "cell_type": "markdown",
   "metadata": {},
   "source": [
    "`help()` displays two things:\n",
    "\n",
    "1. the header of that function `round(number, ndigits=None)`. In this case, this tells us that `round()` takes an argument we can describe as `number`. Additionally, we can optionally give a separate argument which could be described as `ndigits`.\n",
    "2. A brief English description of what the function does. "
   ]
  },
  {
   "cell_type": "code",
   "execution_count": 9,
   "metadata": {},
   "outputs": [],
   "source": [
    "#Docstring with an example:\n",
    "def least_difference(a, b, c):\n",
    "    \"\"\"Return the smallest difference between any two numbers\n",
    "    among a, b and c.\n",
    "    \n",
    "    >>> least_difference(1, 5, -5)\n",
    "    4\n",
    "    \"\"\"\n",
    "    diff1 = abs(a - b)\n",
    "    diff2 = abs(b - c)\n",
    "    diff3 = abs(a - c)\n",
    "    return min(diff1, diff2, diff3)"
   ]
  },
  {
   "cell_type": "code",
   "execution_count": 10,
   "metadata": {},
   "outputs": [
    {
     "name": "stdout",
     "output_type": "stream",
     "text": [
      "Help on function least_difference in module __main__:\n",
      "\n",
      "least_difference(a, b, c)\n",
      "    Return the smallest difference between any two numbers\n",
      "    among a, b and c.\n",
      "    \n",
      "    >>> least_difference(1, 5, -5)\n",
      "    4\n",
      "\n"
     ]
    }
   ],
   "source": [
    "help(least_difference)"
   ]
  },
  {
   "cell_type": "markdown",
   "metadata": {},
   "source": [
    "> **Aside:**\n",
    "> The last two lines of the docstring are an example function call and result. (The `>>>` is a reference to the command prompt used in Python interactive shells.) Python doesn't run the example call - it's just there for the benefit of the reader. The convention of including 1 or more example calls in a function's docstring is far from universally observed, but it can be very effective at helping someone understand your function. For a real-world example, see [this docstring for the numpy function `np.eye`](https://github.com/numpy/numpy/blob/v1.14.2/numpy/lib/twodim_base.py#L140-L194)."
   ]
  },
  {
   "cell_type": "markdown",
   "metadata": {},
   "source": [
    "Good programmers use docstrings unless they expect to throw away the code soon after it's used (which is rare).  So, you should start writing docstrings, too!"
   ]
  },
  {
   "cell_type": "markdown",
   "metadata": {},
   "source": [
    "**Exercise:** Construct a function that takes three arguments `(hours, minutes, second)`and compute the totale number of seconds."
   ]
  },
  {
   "cell_type": "code",
   "execution_count": 10,
   "metadata": {},
   "outputs": [],
   "source": [
    "def my_fct(hours, minutes, second):\n",
    "    return hours*3600 + minutes*60 + second"
   ]
  },
  {
   "cell_type": "code",
   "execution_count": 11,
   "metadata": {},
   "outputs": [
    {
     "data": {
      "text/plain": [
       "5430"
      ]
     },
     "execution_count": 11,
     "metadata": {},
     "output_type": "execute_result"
    }
   ],
   "source": [
    "my_fct(1, 30, 30)"
   ]
  },
  {
   "cell_type": "markdown",
   "metadata": {},
   "source": [
    "**Exercise:**\n",
    "Create a function that compares two numbers and returns them in increasing order."
   ]
  },
  {
   "cell_type": "code",
   "execution_count": 14,
   "metadata": {},
   "outputs": [],
   "source": [
    "def my_fct_2(a, b):\n",
    "    if a>b:\n",
    "        return b, a\n",
    "    else:\n",
    "        return a, b"
   ]
  },
  {
   "cell_type": "code",
   "execution_count": 15,
   "metadata": {},
   "outputs": [
    {
     "data": {
      "text/plain": [
       "(10, 20)"
      ]
     },
     "execution_count": 15,
     "metadata": {},
     "output_type": "execute_result"
    }
   ],
   "source": [
    "my_fct_2(10, 20)"
   ]
  },
  {
   "cell_type": "code",
   "execution_count": 16,
   "metadata": {},
   "outputs": [],
   "source": [
    "#other solution\n",
    "def my_fct_2(a, b):\n",
    "    return min(a,b), max(a, b)"
   ]
  },
  {
   "cell_type": "code",
   "execution_count": 17,
   "metadata": {},
   "outputs": [
    {
     "data": {
      "text/plain": [
       "(10, 20)"
      ]
     },
     "execution_count": 17,
     "metadata": {},
     "output_type": "execute_result"
    }
   ],
   "source": [
    "my_fct_2(10, 20)"
   ]
  },
  {
   "cell_type": "markdown",
   "metadata": {},
   "source": [
    "**Exercise:** Complete the body of the following function according to its docstring.\n",
    "HINT: Python has a built-in function `round`."
   ]
  },
  {
   "cell_type": "code",
   "execution_count": null,
   "metadata": {},
   "outputs": [],
   "source": [
    "def round_to_two_places(num):\n",
    "    \"\"\"Return the given number rounded to two decimal places. \n",
    "    \n",
    "    >>> round_to_two_places(3.14159)\n",
    "    3.14\n",
    "    \"\"\"\n",
    "    return round(num, 2)\n"
   ]
  },
  {
   "cell_type": "code",
   "execution_count": null,
   "metadata": {},
   "outputs": [
    {
     "data": {
      "text/plain": [
       "3.14"
      ]
     },
     "metadata": {},
     "output_type": "display_data"
    }
   ],
   "source": [
    "round_to_two_places(3.14159)"
   ]
  },
  {
   "cell_type": "markdown",
   "metadata": {},
   "source": [
    "## Default arguments\n",
    "\n",
    "When we called `help(print)`, we saw that the `print` function has several optional arguments. For example, we can specify a value for `sep` to put some special string in between our printed arguments:"
   ]
  },
  {
   "cell_type": "code",
   "execution_count": 11,
   "metadata": {},
   "outputs": [
    {
     "name": "stdout",
     "output_type": "stream",
     "text": [
      "1 < 2 < 3\n"
     ]
    }
   ],
   "source": [
    "print(1, 2, 3, sep=' < ')"
   ]
  },
  {
   "cell_type": "markdown",
   "metadata": {},
   "source": [
    "But if we don't specify a value, `sep` is treated as having a default value of `' '` (a single space)."
   ]
  },
  {
   "cell_type": "code",
   "execution_count": 12,
   "metadata": {},
   "outputs": [
    {
     "name": "stdout",
     "output_type": "stream",
     "text": [
      "1 2 3\n"
     ]
    }
   ],
   "source": [
    "print(1, 2, 3)"
   ]
  },
  {
   "cell_type": "markdown",
   "metadata": {},
   "source": [
    "Adding optional arguments with default values to the functions we define turns out to be pretty easy:"
   ]
  },
  {
   "cell_type": "code",
   "execution_count": null,
   "metadata": {},
   "outputs": [],
   "source": [
    "def greet(who=\"Colin\"):\n",
    "    print(\"Hello,\", who)\n",
    "    \n",
    "greet()\n",
    "greet(who=\"Kaggle\")\n",
    "# (In this case, we don't need to specify the name of the argument, because it's unambiguous.)\n",
    "greet(\"world\")"
   ]
  },
  {
   "cell_type": "markdown",
   "metadata": {},
   "source": [
    "**Exercise:** Friends Alice, Bob and Carol want to share evenly candies. For the sake of their friendship, any candies left over would be smashed. For example, if they collectively bring home 91 candies, they'll take 30 each and smash 1.\n",
    "\n",
    "Below is a simple function that will calculate the number of candies to smash for *any* number of total candies.\n",
    "\n",
    "Modify it so that it optionally takes a second argument representing the number of friends the candies are being split between. If no second argument is provided, it should assume 3 friends, as before.\n",
    "\n",
    "Update the docstring to reflect this new behaviour."
   ]
  },
  {
   "cell_type": "code",
   "execution_count": null,
   "metadata": {},
   "outputs": [],
   "source": [
    "def to_smash(total_candies, nb_of_friends = 3):\n",
    "    \"\"\"Return the number of leftover candies that must be smashed after distributing\n",
    "    the given number of candies evenly between nb_of_friends friends.\n",
    "    \n",
    "    >>> to_smash(91)\n",
    "    1\n",
    "    \"\"\"\n",
    "    return total_candies % nb_of_friends"
   ]
  },
  {
   "cell_type": "code",
   "execution_count": null,
   "metadata": {},
   "outputs": [
    {
     "data": {
      "text/plain": [
       "3"
      ]
     },
     "metadata": {},
     "output_type": "display_data"
    }
   ],
   "source": [
    "to_smash(91, 4)"
   ]
  },
  {
   "cell_type": "markdown",
   "metadata": {},
   "source": [
    "**Exercise:** Each new term in the Fibonacci sequence is generated by adding the previous two terms. By starting with $1$  and $2$, the first terms will be:\n",
    "$$1, 2, 3, 5, 8, 13, 21, 34, 55, 89.$$\n",
    "\n",
    "By considering the terms in the Fibonacci sequence whose values do not exceed four million, find the sum of the even-valued terms."
   ]
  },
  {
   "cell_type": "code",
   "execution_count": 10,
   "metadata": {},
   "outputs": [],
   "source": [
    "def sum_even_nb_Fibonacci(n):\n",
    "    sum_even_nb = 0\n",
    "    Fib_seq_1 = 1\n",
    "    Fib_seq_2 = 2\n",
    "    while Fib_seq_1 <=n:\n",
    "        my_mem = Fib_seq_1\n",
    "        Fib_seq_1 = Fib_seq_2\n",
    "        Fib_seq_2 = my_mem + Fib_seq_2\n",
    "        #print(Fib_seq_1)\n",
    "        if Fib_seq_1 % 2 == 0:\n",
    "            sum_even_nb = sum_even_nb + Fib_seq_1\n",
    "    return sum_even_nb\n",
    "        "
   ]
  },
  {
   "cell_type": "code",
   "execution_count": 11,
   "metadata": {},
   "outputs": [
    {
     "data": {
      "text/plain": [
       "4613732"
      ]
     },
     "execution_count": 11,
     "metadata": {},
     "output_type": "execute_result"
    }
   ],
   "source": [
    "sum_even_nb_Fibonacci(4000000)"
   ]
  },
  {
   "cell_type": "markdown",
   "metadata": {},
   "source": [
    "## Functions Applied to Functions\n",
    "\n",
    "Here's something that's powerful, though it can feel very abstract at first.  You can supply functions as arguments to other functions.  Some example may make this clearer:"
   ]
  },
  {
   "cell_type": "code",
   "execution_count": null,
   "metadata": {},
   "outputs": [],
   "source": [
    "def mult_by_five(x):\n",
    "    return 5 * x\n",
    "\n",
    "def call(fn, arg):\n",
    "    \"\"\"Call fn on arg\"\"\"\n",
    "    return fn(arg)\n",
    "\n",
    "def squared_call(fn, arg):\n",
    "    \"\"\"Call fn on the result of calling fn on arg\"\"\"\n",
    "    return fn(fn(arg))\n",
    "\n",
    "print(\n",
    "    call(mult_by_five, 1),\n",
    "    squared_call(mult_by_five, 1), \n",
    "    sep='\\n', # '\\n' is the newline character - it starts a new line\n",
    ")"
   ]
  },
  {
   "cell_type": "markdown",
   "metadata": {},
   "source": [
    "Functions that operate on other functions are called \"higher-order functions.\" You probably won't write your own for a little while. But there are higher-order functions built into Python that you might find useful to call. \n",
    "\n",
    "Here's an interesting example using the `max` function.\n",
    "\n",
    "By default, `max` returns the largest of its arguments. But if we pass in a function using the optional `key` argument, it returns the argument `x` that maximizes `key(x)` (aka the 'argmax')."
   ]
  },
  {
   "cell_type": "code",
   "execution_count": null,
   "metadata": {},
   "outputs": [],
   "source": [
    "def mod_5(x):\n",
    "    \"\"\"Return the remainder of x after dividing by 5\"\"\"\n",
    "    return x % 5\n",
    "\n",
    "print(\n",
    "    'Which number is biggest?',\n",
    "    max(100, 51, 14),\n",
    "    'Which number is the biggest modulo 5?',\n",
    "    max(100, 51, 14, key=mod_5),\n",
    "    sep='\\n',\n",
    ")"
   ]
  },
  {
   "cell_type": "markdown",
   "metadata": {},
   "source": [
    "## Functions with multiple returns.\n",
    "We can have multiple return statements, e.g. based on the result of some conditional statements:"
   ]
  },
  {
   "cell_type": "code",
   "execution_count": null,
   "metadata": {},
   "outputs": [
    {
     "name": "stdout",
     "output_type": "stream",
     "text": [
      "negative\n",
      "zero\n",
      "positive\n"
     ]
    }
   ],
   "source": [
    "def sign(x):\n",
    "    if x > 0:\n",
    "        return 'positive'\n",
    "    elif x < 0:\n",
    "        return 'negative'\n",
    "    else:\n",
    "        return 'zero'\n",
    "\n",
    "for x in [-1, 0, 1]:\n",
    "    print(sign(x))"
   ]
  },
  {
   "cell_type": "markdown",
   "metadata": {},
   "source": [
    "In addition to _positional_ arguments, functions can have _keyword_ arguments that are typically used to specify default values:"
   ]
  },
  {
   "cell_type": "code",
   "execution_count": null,
   "metadata": {},
   "outputs": [
    {
     "name": "stdout",
     "output_type": "stream",
     "text": [
      "G'day, Bob\n",
      "G'day, FRED!\n"
     ]
    }
   ],
   "source": [
    "def hello(name, loud=False):\n",
    "    if loud:\n",
    "        print('G\\'day, %s!' % name.upper())\n",
    "    else:\n",
    "        print('G\\'day, %s' % name)\n",
    "\n",
    "hello('Bob') \n",
    "hello('Fred', loud=True)"
   ]
  },
  {
   "cell_type": "markdown",
   "metadata": {},
   "source": [
    "Finally, it is quite common to write functions that return _multiple_ objects as a tuple. For example we can write something like"
   ]
  },
  {
   "cell_type": "code",
   "execution_count": null,
   "metadata": {},
   "outputs": [],
   "source": [
    "def is_number_positive(number):\n",
    "    if number > 0:\n",
    "        return True, number\n",
    "    else:\n",
    "        return False, number"
   ]
  },
  {
   "cell_type": "code",
   "execution_count": null,
   "metadata": {},
   "outputs": [
    {
     "data": {
      "text/plain": [
       "(False, -1)"
      ]
     },
     "metadata": {},
     "output_type": "display_data"
    }
   ],
   "source": [
    "is_number_positive(-1)"
   ]
  },
  {
   "cell_type": "code",
   "execution_count": null,
   "metadata": {},
   "outputs": [
    {
     "data": {
      "text/plain": [
       "(True, 42)"
      ]
     },
     "metadata": {},
     "output_type": "display_data"
    }
   ],
   "source": [
    "is_number_positive(42)"
   ]
  },
  {
   "cell_type": "markdown",
   "metadata": {},
   "source": [
    "One cool aspect of such functions is that the returned objects can be unpacked in two different ways:"
   ]
  },
  {
   "cell_type": "code",
   "execution_count": null,
   "metadata": {},
   "outputs": [
    {
     "data": {
      "text/plain": [
       "(True, 3)"
      ]
     },
     "metadata": {},
     "output_type": "display_data"
    }
   ],
   "source": [
    "tup = is_number_positive(3); tup"
   ]
  },
  {
   "cell_type": "code",
   "execution_count": null,
   "metadata": {},
   "outputs": [
    {
     "name": "stdout",
     "output_type": "stream",
     "text": [
      "False\n",
      "-10\n"
     ]
    }
   ],
   "source": [
    "is_positive, number = is_number_positive(-10)\n",
    "\n",
    "print(is_positive)\n",
    "print(number)"
   ]
  },
  {
   "cell_type": "markdown",
   "metadata": {},
   "source": [
    "## Problem: construct a coin toss. \n",
    "\n",
    "We want our Python code to do the equivalent of a coin toss.  We want to run\n",
    "the code, and get a random answer, that is answer 1 in 50% of the time (representing a\n",
    "Head), and answer 0 for 50% of the time (representing a Tail).\n",
    "\n",
    "Let’s start by getting a random number that can be any value, with equal\n",
    "likelihood, all the way between 0 and 1.  We think first of the `random`\n",
    "module:"
   ]
  },
  {
   "cell_type": "code",
   "execution_count": 14,
   "metadata": {},
   "outputs": [],
   "source": [
    "# packages (or modules) contain many useful tools such as objects, methods and functions\n",
    "# random is a package that contains tools to simulate randomness\n",
    "# we usually import several packages in data science project because it is very convenient to use tools developped by others.\n",
    "import random"
   ]
  },
  {
   "cell_type": "markdown",
   "metadata": {},
   "source": [
    "We can explore the functions inside the random module by \"tab completion\" on 'random.' or with 'random?'.  We can also look at the [documentation for the random\n",
    "module](https://docs.python.org/3.6/library/random.html).  We discover that\n",
    "the `random` function in the `random` module does what we want:"
   ]
  },
  {
   "cell_type": "code",
   "execution_count": 15,
   "metadata": {},
   "outputs": [
    {
     "data": {
      "text/plain": [
       "0.7901798214456953"
      ]
     },
     "execution_count": 15,
     "metadata": {},
     "output_type": "execute_result"
    }
   ],
   "source": [
    "random.random()"
   ]
  },
  {
   "cell_type": "code",
   "execution_count": 20,
   "metadata": {},
   "outputs": [
    {
     "data": {
      "text/plain": [
       "0.948111417906168"
      ]
     },
     "execution_count": 20,
     "metadata": {},
     "output_type": "execute_result"
    }
   ],
   "source": [
    "# Get a random number between 0 and 1\n",
    "random.random()"
   ]
  },
  {
   "cell_type": "code",
   "execution_count": 21,
   "metadata": {},
   "outputs": [
    {
     "data": {
      "text/plain": [
       "0.0867413834966907"
      ]
     },
     "execution_count": 21,
     "metadata": {},
     "output_type": "execute_result"
    }
   ],
   "source": [
    "# Get another random number between 0 and 1\n",
    "random.random()"
   ]
  },
  {
   "cell_type": "markdown",
   "metadata": {},
   "source": [
    "To do our coin toss, we can look at the random number.  If it is < 0.5, we can\n",
    "decide this is a 0 (for Tails), and if it is >= 0.5, we will say it is a 1\n",
    "(for Heads).  This is a “if, then” type statement, called a *conditional*.\n",
    "It’s called a conditional because we do something only if a condition is met.\n",
    "The condition here is that the random number is < 0.5.  A conditional in\n",
    "Python looks like this:"
   ]
  },
  {
   "cell_type": "code",
   "execution_count": 22,
   "metadata": {},
   "outputs": [],
   "source": [
    "random_no = random.random()\n",
    "# Next we see the condition that is being tested\n",
    "if random_no < 0.5:\n",
    "    # Tails\n",
    "    our_result = 0\n",
    "else:\n",
    "    # Heads\n",
    "    our_result = 1"
   ]
  },
  {
   "cell_type": "code",
   "execution_count": 23,
   "metadata": {},
   "outputs": [
    {
     "data": {
      "text/plain": [
       "0"
      ]
     },
     "execution_count": 23,
     "metadata": {},
     "output_type": "execute_result"
    }
   ],
   "source": [
    "our_result"
   ]
  },
  {
   "cell_type": "markdown",
   "metadata": {},
   "source": [
    "There are a couple of important things to notice here. The conditional starts\n",
    "with `if`, followed by the condition, here `random_no < 0.5`.  **There must\n",
    "be a colon `:` at the end of the line**, and this signals the start of the\n",
    "statements that should run if the condition is True.\n",
    "\n",
    "The statement to execute if the condition is True, is `our_result = 0`.\n",
    "Notice that this statement is **indented by four spaces**.  It is this\n",
    "indentation that tells Python that the statement should run only if the\n",
    "condition is True.  You can put many statements to run if the condition is\n",
    "True, but they must all be indented in the same way.  Luckily the Notebook and\n",
    "other code editors usually guess what we want and do the indentation for us`\n",
    "\n",
    "\n",
    "Next we see a line `else:`.  Notice that this line is *not* indented.  That\n",
    "is because we want this line to run if the condition is False.  Remember, the\n",
    "indented lines above run only when the condition is True.\n",
    "\n",
    "Notice again that the `else:` has a colon at the end, to say that more\n",
    "indented lines will follow.  These lines only run if the condition is False.\n",
    "\n",
    "To recap, the indented lines after the `if` and before the `else` run only\n",
    "if the condition is True.  The indented lines after the `else:` only run if\n",
    "the condition is False.\n",
    "\n",
    "You don’t have to have an `else:` part of a conditional block - you can just\n",
    "have the `if` part.  For example, this code would do the same as the code\n",
    "above:"
   ]
  },
  {
   "cell_type": "code",
   "execution_count": 24,
   "metadata": {},
   "outputs": [],
   "source": [
    "random_no = random.random()\n",
    "# Default to Heads\n",
    "our_result = 1\n",
    "# We have the \"if\" part, but no \"else:\" part.\n",
    "if random_no < 0.5:\n",
    "    # Tails\n",
    "    our_result = 0"
   ]
  },
  {
   "cell_type": "code",
   "execution_count": 25,
   "metadata": {},
   "outputs": [
    {
     "data": {
      "text/plain": [
       "0"
      ]
     },
     "execution_count": 25,
     "metadata": {},
     "output_type": "execute_result"
    }
   ],
   "source": [
    "our_result"
   ]
  },
  {
   "cell_type": "markdown",
   "metadata": {},
   "source": [
    "We’re going to wrap up our logic for the coin toss into a function, and call\n",
    "the function `coin_toss`.  Like `random.random` our function `coin_toss`\n",
    "will accept no arguments.  It will return a 0 50% of the time and a 1 50% of\n",
    "the time."
   ]
  },
  {
   "cell_type": "code",
   "execution_count": 17,
   "metadata": {},
   "outputs": [],
   "source": [
    "def coin_toss():# there is no argument here\n",
    "    random_no = random.random()\n",
    "    if random_no < 0.5:\n",
    "        our_result = 0\n",
    "    else:\n",
    "        our_result = 1\n",
    "    return our_result"
   ]
  },
  {
   "cell_type": "code",
   "execution_count": 18,
   "metadata": {},
   "outputs": [
    {
     "data": {
      "text/plain": [
       "0"
      ]
     },
     "execution_count": 18,
     "metadata": {},
     "output_type": "execute_result"
    }
   ],
   "source": [
    "# Notice, we pass no arguments\n",
    "coin_toss()"
   ]
  },
  {
   "cell_type": "code",
   "execution_count": 19,
   "metadata": {},
   "outputs": [
    {
     "data": {
      "text/plain": [
       "1"
      ]
     },
     "execution_count": 19,
     "metadata": {},
     "output_type": "execute_result"
    }
   ],
   "source": [
    "coin_toss()"
   ]
  },
  {
   "cell_type": "code",
   "execution_count": 20,
   "metadata": {},
   "outputs": [
    {
     "data": {
      "text/plain": [
       "1"
      ]
     },
     "execution_count": 20,
     "metadata": {},
     "output_type": "execute_result"
    }
   ],
   "source": [
    "coin_toss()"
   ]
  },
  {
   "cell_type": "markdown",
   "metadata": {},
   "source": [
    "### Exercise\n",
    "Construct a function that returns $1$ (for girls) or $0$ (for boys) when it is\n",
    "assumed that the proportion of boys born in the UK is 0.513.\n",
    "\n",
    "*Hint:* you can copy the `coin_toss` function and modify it to return $0$ (for a boy) $51.3\\%$ of the time, and $1$\n",
    "(for a girl) $48.7\\%$."
   ]
  },
  {
   "cell_type": "code",
   "execution_count": 30,
   "metadata": {},
   "outputs": [],
   "source": [
    "def girl_or_boy():\n",
    "    # Return 1 for a girl, 0 for a boy\n",
    "    random_no = random.random()\n",
    "    if random_no < 0.513:\n",
    "        our_result = 0\n",
    "    else:\n",
    "        our_result = 1\n",
    "    return our_result"
   ]
  },
  {
   "cell_type": "markdown",
   "metadata": {},
   "source": [
    "You can try your function out a few times with the cell below:"
   ]
  },
  {
   "cell_type": "code",
   "execution_count": 31,
   "metadata": {},
   "outputs": [
    {
     "data": {
      "text/plain": [
       "0"
      ]
     },
     "execution_count": 31,
     "metadata": {},
     "output_type": "execute_result"
    }
   ],
   "source": [
    "girl_or_boy()"
   ]
  },
  {
   "cell_type": "markdown",
   "metadata": {},
   "source": [
    "**Exercice:** return a function that takes an argument 'p' and return $1$ with probability $p$ and $0$ with probability $1-p$."
   ]
  },
  {
   "cell_type": "code",
   "execution_count": 32,
   "metadata": {},
   "outputs": [],
   "source": [
    "def my_fct(p):\n",
    "    # Return 1 for a girl, 0 for a boy\n",
    "    random_no = random.random()\n",
    "    if random_no < p:\n",
    "        our_result = 1\n",
    "    else:\n",
    "        our_result = 0\n",
    "    return our_result"
   ]
  },
  {
   "cell_type": "markdown",
   "metadata": {},
   "source": [
    "**Exercice:**\n",
    "1) Write a Python function to find the Max of two numbers.\n",
    "\n",
    "2) Write a Python function to find the Max of three numbers."
   ]
  },
  {
   "cell_type": "code",
   "execution_count": 34,
   "metadata": {},
   "outputs": [],
   "source": [
    "def my_max_fct(a, b):\n",
    "    if a>b: \n",
    "        return a\n",
    "    else:\n",
    "        return b"
   ]
  },
  {
   "cell_type": "code",
   "execution_count": 35,
   "metadata": {},
   "outputs": [
    {
     "data": {
      "text/plain": [
       "29"
      ]
     },
     "execution_count": 35,
     "metadata": {},
     "output_type": "execute_result"
    }
   ],
   "source": [
    "my_max_fct(10, 29)"
   ]
  },
  {
   "cell_type": "code",
   "execution_count": 37,
   "metadata": {},
   "outputs": [],
   "source": [
    "def my_max_3_fct(a, b, c):\n",
    "    if a > my_max_fct(b, c):\n",
    "        return a\n",
    "    else:\n",
    "        return my_max_fct(b, c)"
   ]
  },
  {
   "cell_type": "code",
   "execution_count": 38,
   "metadata": {},
   "outputs": [
    {
     "data": {
      "text/plain": [
       "30"
      ]
     },
     "execution_count": 38,
     "metadata": {},
     "output_type": "execute_result"
    }
   ],
   "source": [
    "my_max_3_fct(10, 20, 30)"
   ]
  },
  {
   "cell_type": "markdown",
   "metadata": {},
   "source": [
    "**Exercise:** Define a function that compute $x^2+10x+1$"
   ]
  },
  {
   "cell_type": "code",
   "execution_count": 46,
   "metadata": {},
   "outputs": [],
   "source": [
    "def my_fct(x):\n",
    "    return x**2 + 10*x + 1"
   ]
  },
  {
   "cell_type": "code",
   "execution_count": 47,
   "metadata": {},
   "outputs": [
    {
     "data": {
      "text/plain": [
       "12"
      ]
     },
     "execution_count": 47,
     "metadata": {},
     "output_type": "execute_result"
    }
   ],
   "source": [
    "my_fct(1)"
   ]
  },
  {
   "cell_type": "code",
   "execution_count": 50,
   "metadata": {},
   "outputs": [
    {
     "data": {
      "image/png": "[encoded data removed]",
      "text/plain": [
       "<Figure size 432x288 with 1 Axes>"
      ]
     },
     "metadata": {
      "needs_background": "light"
     },
     "output_type": "display_data"
    }
   ],
   "source": [
    "#extra: we can plot our function using matplotlib.pyplot\n",
    "from matplotlib import pyplot as plt\n",
    "import numpy as np\n",
    "\n",
    "x = np.linspace(-10, 10, 100)\n",
    "\n",
    "plt.plot(x, my_fct(x), color='red')\n",
    "\n",
    "plt.show()"
   ]
  },
  {
   "cell_type": "markdown",
   "metadata": {},
   "source": [
    "**Exercice:**\n",
    "Write a Python program to reverse a string.\n",
    "\n",
    "Sample String : \"1234abcd\"\n",
    "\n",
    "Expected Output : \"dcba4321\""
   ]
  },
  {
   "cell_type": "code",
   "execution_count": 44,
   "metadata": {},
   "outputs": [],
   "source": [
    "def my_reverse(my_str):\n",
    "    if len(my_str) == 0:\n",
    "        return ''\n",
    "    else:\n",
    "        return my_str[-1] + my_reverse(my_str[:-1])"
   ]
  },
  {
   "cell_type": "code",
   "execution_count": 45,
   "metadata": {},
   "outputs": [
    {
     "data": {
      "text/plain": [
       "'dcba4321'"
      ]
     },
     "execution_count": 45,
     "metadata": {},
     "output_type": "execute_result"
    }
   ],
   "source": [
    "my_reverse(\"1234abcd\")"
   ]
  },
  {
   "cell_type": "markdown",
   "metadata": {},
   "source": [
    "# <span title=\"A bit spicy\" style=\"color: darkgreen \">🌶️</span> Recursion\n",
    "\n",
    "\n",
    "Recursion lets us tackle complex problems by reducing them to simpler ones. A recursive function is a function defined in terms of itself via self-referential expressions. This means that the function will continue to call itself and repeat its behavior until some condition is met to return a result. "
   ]
  },
  {
   "cell_type": "markdown",
   "metadata": {},
   "source": [
    "Let us write a recursive function for calculating n!.\n",
    "First, decompose the original problem into simpler instances of the same problem:\n",
    "\n",
    "$$n!=n*(n-1)!$$\n",
    "\n",
    "The large problem is broken down into successively less complex ones:\n",
    "\n",
    "$$n!=n*(n-1)!=n*(n-1)*(n-2)!=\\cdots=n*(n-1)*(n-2)*\\dots *1!$$\n",
    "\n",
    "Here, 1! is our base case, and it is equal to 1."
   ]
  },
  {
   "cell_type": "code",
   "execution_count": 25,
   "metadata": {},
   "outputs": [],
   "source": [
    "def factorial_recursive(n):\n",
    "    # Base case: 1! = 1\n",
    "    if n == 1:\n",
    "        return 1\n",
    "\n",
    "    # Recursive case: n! = n * (n-1)!\n",
    "    else:\n",
    "        return n * factorial_recursive(n-1)"
   ]
  },
  {
   "cell_type": "markdown",
   "metadata": {},
   "source": [
    "### Exercice \n",
    "The `is_power_of` function below takes two arguments `(num, base)` and returns `True` when `num`is a power of `base`and `False`otherwise. The indentations are wrong. Add the right indentation so that the `is_power_of` function works as it should be.\n",
    "\n",
    "Hint: if `num<base`then num is a power of base only if `num=1`.\n"
   ]
  },
  {
   "cell_type": "code",
   "execution_count": 28,
   "metadata": {},
   "outputs": [],
   "source": [
    "# Solution\n",
    "\n",
    "def is_power_of(num, base):\n",
    "  # Base case: when number is smaller than base.\n",
    "    if num < base:\n",
    "    # If number is equal to 1, it's a power (base**0).\n",
    "        return num == 1\n",
    "\n",
    "  # Recursive case: keep dividing number by base.\n",
    "    return is_power_of(num/base, base)"
   ]
  },
  {
   "cell_type": "code",
   "execution_count": 29,
   "metadata": {},
   "outputs": [
    {
     "name": "stdout",
     "output_type": "stream",
     "text": [
      "True\n",
      "True\n",
      "False\n"
     ]
    }
   ],
   "source": [
    "print(is_power_of(8,2)) # Should be True\n",
    "print(is_power_of(64,4)) # Should be True\n",
    "print(is_power_of(70,10)) # Should be False"
   ]
  },
  {
   "cell_type": "markdown",
   "metadata": {},
   "source": [
    "### Exercice \n",
    "Implement the `sum_positive_numbers` function, as a recursive function that returns the sum of all positive numbers between its argument, say, n  and 1. For example, when n is 3 it should return 1+2+3=6, and when n is 5 it should return 1+2+3+4+5=15."
   ]
  },
  {
   "cell_type": "code",
   "execution_count": 20,
   "metadata": {},
   "outputs": [],
   "source": [
    "# Solution\n",
    "def sum_nbs(n):\n",
    "    if n == 1:\n",
    "        return 1\n",
    "    else:\n",
    "      return n + sum_nbs(n-1)"
   ]
  },
  {
   "cell_type": "code",
   "execution_count": 24,
   "metadata": {},
   "outputs": [
    {
     "data": {
      "text/plain": [
       "15"
      ]
     },
     "execution_count": 24,
     "metadata": {},
     "output_type": "execute_result"
    }
   ],
   "source": [
    "sum_nbs(5)"
   ]
  },
  {
   "cell_type": "markdown",
   "metadata": {},
   "source": [
    "### Exercice: \n",
    "Implement a recursive function to reverse a list. Hint: we can use `+`to concatenate two lists"
   ]
  },
  {
   "cell_type": "code",
   "execution_count": 29,
   "metadata": {},
   "outputs": [],
   "source": [
    "def rev(l):\n",
    "    if len(l) == 0: \n",
    "        return []\n",
    "    else:\n",
    "        return [l[-1]] + rev(l[:-1])"
   ]
  },
  {
   "cell_type": "code",
   "execution_count": 30,
   "metadata": {},
   "outputs": [
    {
     "data": {
      "text/plain": [
       "[3, 2, 1]"
      ]
     },
     "execution_count": 30,
     "metadata": {},
     "output_type": "execute_result"
    }
   ],
   "source": [
    "my_list =[1, 2, 3]\n",
    "rev(my_list)"
   ]
  },
  {
   "cell_type": "markdown",
   "metadata": {},
   "source": [
    "### Exercice\n",
    "In this code, there is an initialization problem that is causing our function to behave incorrectly. Can you find the problem and fix it?"
   ]
  },
  {
   "cell_type": "code",
   "execution_count": 33,
   "metadata": {},
   "outputs": [],
   "source": [
    "def count_down(start_number):\n",
    "    while current > 0:\n",
    "        print(current)\n",
    "        current -= 1\n",
    "    print(\"Zero!\")\n",
    "\n",
    "count_down(3)"
   ]
  },
  {
   "cell_type": "code",
   "execution_count": 32,
   "metadata": {},
   "outputs": [
    {
     "name": "stdout",
     "output_type": "stream",
     "text": [
      "3\n",
      "2\n",
      "1\n",
      "Zero!\n"
     ]
    }
   ],
   "source": [
    "#Solution\n",
    "def count_down(start_number):\n",
    "    current = start_number\n",
    "    while current > 0:\n",
    "        print(current)\n",
    "        current -= 1\n",
    "    print(\"Zero!\")\n",
    "\n",
    "count_down(3)"
   ]
  },
  {
   "cell_type": "markdown",
   "metadata": {},
   "source": [
    "### Exercice\n",
    "The following code causes an infinite loop. Can you figure out what’s missing and how to fix it?"
   ]
  },
  {
   "cell_type": "code",
   "execution_count": 39,
   "metadata": {},
   "outputs": [
    {
     "name": "stdout",
     "output_type": "stream",
     "text": [
      "1\n",
      "2\n",
      "3\n",
      "4\n",
      "5\n"
     ]
    }
   ],
   "source": [
    "# Solution\n",
    "def print_range(start, end):\n",
    "    # Loop through the numbers from start to end\n",
    "    n = start\n",
    "    while n <= end:\n",
    "        print(n)\n",
    "\n",
    "\n",
    "print_range(1, 5)  # Should print 1 2 3 4 5 (each number on its own line) \n",
    "#Solution: incrementation on n is missing: n +=1\n"
   ]
  },
  {
   "cell_type": "markdown",
   "metadata": {},
   "source": [
    "### Exercice\n",
    "Let us say you run a local girls basketball league in your town. You have four teams that will play against each other in the league, both at home and away. You have stored the names of the teams in a list. We want to write a script that will output all possible team pairings. For this, the order of the names matters because for each game, the first name will be the home team and the second name is the away team. Of course, what we don't want to do is have a team playing against itself. So what statement do we need to use to avoid that? "
   ]
  },
  {
   "cell_type": "code",
   "execution_count": 34,
   "metadata": {},
   "outputs": [],
   "source": [
    "list_team = ['A', 'B', 'C']"
   ]
  },
  {
   "cell_type": "code",
   "execution_count": 35,
   "metadata": {},
   "outputs": [
    {
     "name": "stdout",
     "output_type": "stream",
     "text": [
      "A B\n",
      "A C\n",
      "B A\n",
      "B C\n",
      "C A\n",
      "C B\n"
     ]
    }
   ],
   "source": [
    "# Solution\n",
    "for team1 in list_team:\n",
    "    for team2 in list_team:\n",
    "        if team1 == team2:\n",
    "            pass\n",
    "        else:\n",
    "            print(team1, team2)"
   ]
  }
 ],
 "metadata": {
  "kernelspec": {
   "display_name": "Python 3 (ipykernel)",
   "language": "python",
   "name": "python3"
  },
  "language_info": {
   "codemirror_mode": {
    "name": "ipython",
    "version": 3
   },
   "file_extension": ".py",
   "mimetype": "text/x-python",
   "name": "python",
   "nbconvert_exporter": "python",
   "pygments_lexer": "ipython3",
   "version": "3.9.12"
  }
 },
 "nbformat": 4,
 "nbformat_minor": 2
}
 
